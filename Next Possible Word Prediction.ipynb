{
 "cells": [
  {
   "cell_type": "markdown",
   "id": "f16974dc",
   "metadata": {},
   "source": [
    "## Next Word Prediction\n"
   ]
  },
  {
   "cell_type": "code",
   "execution_count": 1,
   "id": "ca0394e8",
   "metadata": {},
   "outputs": [],
   "source": [
    "#Importing the libraries\n",
    "\n",
    "import numpy as np\n",
    "import pickle\n",
    "import heapq\n",
    "from nltk.tokenize import RegexpTokenizer\n",
    "from keras.models import Sequential, load_model\n",
    "from keras.layers import LSTM\n",
    "from keras.layers.core import Dense, Activation\n",
    "from tensorflow.keras.optimizers import RMSprop\n",
    "import matplotlib.pyplot as plt"
   ]
  },
  {
   "cell_type": "code",
   "execution_count": 3,
   "id": "08e45525",
   "metadata": {},
   "outputs": [],
   "source": [
    "#Loading the dataset\n",
    "\n",
    "text = open('Downloads\\\\sample.txt',encoding='UTF-8').read().lower()"
   ]
  },
  {
   "cell_type": "markdown",
   "id": "622c03c9",
   "metadata": {},
   "source": [
    "### Splitting the entire dataset into each word in order without the presence of special characters"
   ]
  },
  {
   "cell_type": "code",
   "execution_count": 7,
   "id": "a012de46",
   "metadata": {},
   "outputs": [],
   "source": [
    "tokenizer = RegexpTokenizer(r'\\w+')\n",
    "words = tokenizer.tokenize(text)"
   ]
  },
  {
   "cell_type": "code",
   "execution_count": 8,
   "id": "e993ab86",
   "metadata": {},
   "outputs": [],
   "source": [
    "tr = RegexpTokenizer(r'\\w+')\n",
    "words = tr.tokenize(text)\n",
    "unique_words = np.unique(words)\n",
    "uw_index = dict((c, i) for i, c in enumerate(unique_words))"
   ]
  },
  {
   "cell_type": "markdown",
   "id": "9d1d3f31",
   "metadata": {},
   "source": [
    "### Feature engineering"
   ]
  },
  {
   "cell_type": "code",
   "execution_count": 9,
   "id": "7338c771",
   "metadata": {},
   "outputs": [
    {
     "name": "stdout",
     "output_type": "stream",
     "text": [
      "['project', 'gutenberg', 's', 'the', 'adventures']\n",
      "of\n"
     ]
    }
   ],
   "source": [
    "\n",
    "\n",
    "WORD_LENGTH = 5\n",
    "prev_words = []\n",
    "next_words = []\n",
    "for i in range(len(words) - WORD_LENGTH):\n",
    "    prev_words.append(words[i:i + WORD_LENGTH])\n",
    "    next_words.append(words[i + WORD_LENGTH])\n",
    "print(prev_words[0])\n",
    "print(next_words[0])"
   ]
  },
  {
   "cell_type": "markdown",
   "id": "b424ee48",
   "metadata": {},
   "source": [
    "### Dictionary(<key: value>) with each word form the unique_words list as key and its corresponding position as value."
   ]
  },
  {
   "cell_type": "code",
   "execution_count": 10,
   "id": "fe67b53b",
   "metadata": {},
   "outputs": [],
   "source": [
    "unique_words = np.unique(words)\n",
    "unique_word_index = dict((c, i) for i, c in enumerate(unique_words))"
   ]
  },
  {
   "cell_type": "code",
   "execution_count": 15,
   "id": "f730d06b",
   "metadata": {},
   "outputs": [],
   "source": [
    "X = np.zeros((len(prev_words), WORD_LENGTH, len(unique_words)), dtype=bool)\n",
    "Y = np.zeros((len(next_words), len(unique_words)), dtype=bool)"
   ]
  },
  {
   "cell_type": "markdown",
   "id": "f136e141",
   "metadata": {},
   "source": [
    "### One-Hot encoding"
   ]
  },
  {
   "cell_type": "code",
   "execution_count": 16,
   "id": "ff8246c9",
   "metadata": {},
   "outputs": [],
   "source": [
    "X = np.zeros((len(prev_words), WORD_LENGTH, len(unique_words)), dtype=bool)\n",
    "Y = np.zeros((len(next_words), len(unique_words)), dtype=bool)\n",
    "for i, each_words in enumerate(prev_words):\n",
    "    for j, each_word in enumerate(each_words):\n",
    "        X[i, j, unique_word_index[each_word]] = 1\n",
    "    Y[i, unique_word_index[next_words[i]]] = 1"
   ]
  },
  {
   "cell_type": "code",
   "execution_count": 17,
   "id": "96b947e9",
   "metadata": {},
   "outputs": [
    {
     "name": "stdout",
     "output_type": "stream",
     "text": [
      "[False False False ... False False False]\n"
     ]
    }
   ],
   "source": [
    "print(X[0][1])"
   ]
  },
  {
   "cell_type": "markdown",
   "id": "902dbf91",
   "metadata": {},
   "source": [
    "### Building the model"
   ]
  },
  {
   "cell_type": "code",
   "execution_count": 19,
   "id": "254b15f0",
   "metadata": {},
   "outputs": [
    {
     "name": "stderr",
     "output_type": "stream",
     "text": [
      "WARNING:absl:`lr` is deprecated in Keras optimizer, please use `learning_rate` or use the legacy optimizer, e.g.,tf.keras.optimizers.legacy.RMSprop.\n"
     ]
    },
    {
     "name": "stdout",
     "output_type": "stream",
     "text": [
      "Epoch 1/5\n",
      "811/811 [==============================] - 552s 650ms/step - loss: 6.7027 - accuracy: 0.0527 - val_loss: 7.2533 - val_accuracy: 0.0538\n",
      "Epoch 2/5\n",
      "811/811 [==============================] - 2537s 3s/step - loss: 6.4830 - accuracy: 0.0531 - val_loss: 7.2338 - val_accuracy: 0.0538\n",
      "Epoch 3/5\n",
      "811/811 [==============================] - 539s 665ms/step - loss: 6.4443 - accuracy: 0.0534 - val_loss: 7.2122 - val_accuracy: 0.0538\n",
      "Epoch 4/5\n",
      "811/811 [==============================] - 514s 634ms/step - loss: 6.3780 - accuracy: 0.0626 - val_loss: 7.1481 - val_accuracy: 0.0632\n",
      "Epoch 5/5\n",
      "811/811 [==============================] - 501s 617ms/step - loss: 6.2798 - accuracy: 0.0732 - val_loss: 7.1129 - val_accuracy: 0.0743\n"
     ]
    }
   ],
   "source": [
    "model = Sequential()\n",
    "model.add(LSTM(128, input_shape=(WORD_LENGTH, len(unique_words))))\n",
    "model.add(Dense(len(unique_words)))\n",
    "model.add(Activation('softmax'))\n",
    "optimizer = RMSprop(lr=0.01)\n",
    "model.compile(loss='categorical_crossentropy', optimizer=optimizer, metrics=['accuracy'])\n",
    "history = model.fit(X, Y, validation_split=0.05, batch_size=128, epochs=5, shuffle=True).history"
   ]
  },
  {
   "cell_type": "markdown",
   "id": "73f31da7",
   "metadata": {},
   "source": [
    "### Saving the model and loading it back"
   ]
  },
  {
   "cell_type": "code",
   "execution_count": 20,
   "id": "ff4b9f4e",
   "metadata": {},
   "outputs": [],
   "source": [
    "model.save('keras_next_word_model.h5') \n",
    "pickle.dump(history, open(\"history.p\", \"wb\")) \n",
    "model = load_model('keras_next_word_model.h5') \n",
    "history = pickle.load(open(\"history.p\", \"rb\"))"
   ]
  },
  {
   "cell_type": "code",
   "execution_count": 21,
   "id": "bcab4e48",
   "metadata": {},
   "outputs": [
    {
     "data": {
      "text/plain": [
       "{'loss': [6.702735900878906,\n",
       "  6.483011245727539,\n",
       "  6.444271564483643,\n",
       "  6.378015995025635,\n",
       "  6.279820919036865],\n",
       " 'accuracy': [0.05270868167281151,\n",
       "  0.053142376244068146,\n",
       "  0.0533544085919857,\n",
       "  0.06259697675704956,\n",
       "  0.07323701679706573],\n",
       " 'val_loss': [7.2533440589904785,\n",
       "  7.233778476715088,\n",
       "  7.212217807769775,\n",
       "  7.148079872131348,\n",
       "  7.1128764152526855],\n",
       " 'val_accuracy': [0.05382643640041351,\n",
       "  0.05382643640041351,\n",
       "  0.05382643640041351,\n",
       "  0.06316367536783218,\n",
       "  0.07433174550533295]}"
      ]
     },
     "execution_count": 21,
     "metadata": {},
     "output_type": "execute_result"
    }
   ],
   "source": [
    "history"
   ]
  },
  {
   "cell_type": "code",
   "execution_count": 22,
   "id": "ed6b796f",
   "metadata": {},
   "outputs": [
    {
     "data": {
      "text/plain": [
       "<matplotlib.legend.Legend at 0x1a06a948d30>"
      ]
     },
     "execution_count": 22,
     "metadata": {},
     "output_type": "execute_result"
    },
    {
     "data": {
      "image/png": "[encoded data removed]",
      "text/plain": [
       "<Figure size 640x480 with 1 Axes>"
      ]
     },
     "metadata": {},
     "output_type": "display_data"
    }
   ],
   "source": [
    "\n",
    "plt.plot(history['accuracy'])\n",
    "plt.plot(history['val_accuracy'])\n",
    "plt.ylabel('accuracy')\n",
    "plt.xlabel('epochs')\n",
    "plt.legend(['train', 'test'], loc='lower right')\n",
    "     "
   ]
  },
  {
   "cell_type": "code",
   "execution_count": 23,
   "id": "9b423d15",
   "metadata": {},
   "outputs": [
    {
     "data": {
      "text/plain": [
       "<matplotlib.legend.Legend at 0x1a06aaebbb0>"
      ]
     },
     "execution_count": 23,
     "metadata": {},
     "output_type": "execute_result"
    },
    {
     "data": {
      "image/png": "[encoded data removed]",
      "text/plain": [
       "<Figure size 640x480 with 1 Axes>"
      ]
     },
     "metadata": {},
     "output_type": "display_data"
    }
   ],
   "source": [
    "\n",
    "plt.plot(history['loss'])\n",
    "plt.plot(history['val_loss'])\n",
    "plt.title('model loss')\n",
    "plt.ylabel('loss')\n",
    "plt.xlabel('epoch')\n",
    "plt.legend(['train', 'test'], loc='upper left')"
   ]
  },
  {
   "cell_type": "markdown",
   "id": "13af6695",
   "metadata": {},
   "source": [
    "### Prediction"
   ]
  },
  {
   "cell_type": "code",
   "execution_count": 24,
   "id": "e6328d1b",
   "metadata": {},
   "outputs": [],
   "source": [
    "def prepare_input(text):\n",
    "    x = np.zeros((1, len_w, len(unique_words)))\n",
    "    for t, word in enumerate(text.split()):\n",
    "        print(word)\n",
    "        x[0, t, uw_index[word]] = 1\n",
    "    return x\n",
    "\n",
    "def sample(preds, top_n=3):\n",
    "    preds = np.asarray(preds).astype('float64')\n",
    "    preds = np.log(preds)\n",
    "    exp_preds = np.exp(preds)\n",
    "    preds = exp_preds / np.sum(exp_preds)\n",
    "    return heapq.nlargest(top_n, range(len(preds)), preds.take)"
   ]
  },
  {
   "cell_type": "code",
   "execution_count": 25,
   "id": "1784d2b6",
   "metadata": {},
   "outputs": [
    {
     "name": "stdout",
     "output_type": "stream",
     "text": [
      "it\n",
      "is\n",
      "not\n",
      "a\n",
      "lack\n"
     ]
    },
    {
     "data": {
      "text/plain": [
       "array([[[0., 0., 0., ..., 0., 0., 0.],\n",
       "        [0., 0., 0., ..., 0., 0., 0.],\n",
       "        [0., 0., 0., ..., 0., 0., 0.],\n",
       "        [0., 0., 0., ..., 0., 0., 0.],\n",
       "        [0., 0., 0., ..., 0., 0., 0.]]])"
      ]
     },
     "execution_count": 25,
     "metadata": {},
     "output_type": "execute_result"
    }
   ],
   "source": [
    "def prepare_input(text):\n",
    "    x = np.zeros((1, WORD_LENGTH, len(unique_words)))\n",
    "    for t, word in enumerate(text.split()):\n",
    "        print(word)\n",
    "        x[0, t, unique_word_index[word]] = 1\n",
    "    return x\n",
    "prepare_input(\"It is not a lack\".lower())"
   ]
  },
  {
   "cell_type": "code",
   "execution_count": 26,
   "id": "2c36c901",
   "metadata": {},
   "outputs": [],
   "source": [
    "def predict_completion(text):\n",
    "    original_text = text\n",
    "    generated = text\n",
    "    completion = ''\n",
    "    while True:\n",
    "        x = prepare_input(text)\n",
    "        preds = model.predict(x, verbose=0)[0]\n",
    "        next_index = sample(preds, top_n=1)[0]\n",
    "        next_char = indices_char[next_index]\n",
    "        text = text[1:] + next_char\n",
    "        completion += next_char\n",
    "        if len(original_text + completion) + 2 > len(original_text) and next_char == ' ':\n",
    "            return completion\n",
    "        \n",
    "def predict_word(text, n=3):\n",
    "    x = prepare_input(text)\n",
    "    preds = model.predict(x, verbose=0)[0]\n",
    "    next_indices = sample(preds, n)\n",
    "    return [unique_words[idx] for idx in next_indices]"
   ]
  },
  {
   "cell_type": "code",
   "execution_count": 27,
   "id": "57da6225",
   "metadata": {},
   "outputs": [
    {
     "name": "stdout",
     "output_type": "stream",
     "text": [
      "original sentence:  It is not a lack of love, but a lack of friendship that makes unhappy marriages.\n",
      "sequence:  it is not a lack\n",
      "it\n",
      "is\n",
      "not\n",
      "a\n",
      "lack\n",
      "next possible words:  ['and', 'of', 'to', 'i', 'in']\n",
      "original sentence:  That which does not kill us makes us stronger.\n",
      "sequence:  that which does not kill\n",
      "that\n",
      "which\n",
      "does\n",
      "not\n",
      "kill\n",
      "next possible words:  ['the', 'to', 'i', 'a', 'and']\n",
      "original sentence:  I'm not upset that you lied to me, I'm upset that from now on I can't believe you.\n",
      "sequence:  i m not upset that\n",
      "i\n",
      "m\n",
      "not\n",
      "upset\n",
      "that\n",
      "next possible words:  ['i', 'the', 'to', 'he', 'a']\n",
      "original sentence:  And those who were seen dancing were thought to be insane by those who could not hear the music.\n",
      "sequence:  and those who were seen\n",
      "and\n",
      "those\n",
      "who\n",
      "were\n",
      "seen\n",
      "next possible words:  ['the', 'and', 'i', 'a', 'to']\n",
      "original sentence:  It is hard enough to remember my opinions, without also remembering my reasons for them!\n",
      "sequence:  it is hard enough to\n",
      "it\n",
      "is\n",
      "hard\n",
      "enough\n",
      "to\n",
      "next possible words:  ['the', 'a', 'to', 'my', 'i']\n"
     ]
    }
   ],
   "source": [
    "quotes = [\n",
    "    \"It is not a lack of love, but a lack of friendship that makes unhappy marriages.\",\n",
    "    \"That which does not kill us makes us stronger.\",\n",
    "    \"I'm not upset that you lied to me, I'm upset that from now on I can't believe you.\",\n",
    "    \"And those who were seen dancing were thought to be insane by those who could not hear the music.\",\n",
    "    \"It is hard enough to remember my opinions, without also remembering my reasons for them!\"\n",
    "]\n",
    "\n",
    "for q in quotes:\n",
    "    print(\"original sentence: \",q)\n",
    "    seq = \" \".join(tr.tokenize(q.lower())[0:5])\n",
    "    print(\"sequence: \",seq)\n",
    "    print(\"next possible words: \", predict_word(seq, 5))"
   ]
  }
 ],
 "metadata": {
  "kernelspec": {
   "display_name": "Python 3 (ipykernel)",
   "language": "python",
   "name": "python3"
  },
  "language_info": {
   "codemirror_mode": {
    "name": "ipython",
    "version": 3
   },
   "file_extension": ".py",
   "mimetype": "text/x-python",
   "name": "python",
   "nbconvert_exporter": "python",
   "pygments_lexer": "ipython3",
   "version": "3.9.13"
  }
 },
 "nbformat": 4,
 "nbformat_minor": 5
}
